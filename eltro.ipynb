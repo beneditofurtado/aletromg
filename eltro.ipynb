{
 "cells": [
  {
   "cell_type": "markdown",
   "metadata": {},
   "source": [
    "<center>UNIVERSIDADE FEDERAL DO PARÁ CAMPUS UNIVERSITARIO DE TUCURUÍ<center>\n",
    "<center>FACULDADE DE ENGENHARIA ELÉTRICA <center>    \n",
    "  \n",
    "    \n",
    "    \n",
    "  \n",
    "\n",
    "Bianca Evelyn Menezes Florêncio  \n",
    "Benedito Haroldo Gaia Furtado  \n",
    "Hartur Da Silva Sousa   <sup>\n"
   ]
  },
  {
   "cell_type": "markdown",
   "metadata": {},
   "source": [
    " 2ª) Três cargas pontuais $ Q_1 = 1mC$ , $Q_2 = 2mC$ e $Q_3 = -3mC$ estão localizadas em (0,0,4), (−2,6,1) e (3, −4, −8) respectivamente. Determine:\n",
    "\n",
    "a)  A força sobre $Q_1$\n"
   ]
  },
  {
   "cell_type": "code",
   "execution_count": 129,
   "metadata": {},
   "outputs": [],
   "source": [
    "import sympy as sp\n",
    "q1 = 1e-3  # Atribuindo valor a carga Q1\n",
    "q2 = 2e-3 # Atribuindo valor a carga Q2\n",
    "q3 = -3e-3 # Atribuindo valor a carga Q3\n",
    "# definindo os Vetores posição\n",
    "r1 = sp.Matrix([0,0,4])  #\n",
    "r2 = sp.Matrix([-2,6,1])\n",
    "r3 = sp.Matrix([3,-4,-8])\n",
    "e0 = 1e-9/(36*sp.pi) # atribuindo valor a permissividade do espaço livre \n",
    "\n",
    "R1 = r1-r2 # vetor deslocamento entre a Q1 e Q2\n",
    "R2 = r1-r3 # vetor deslocamento entre a Q1 e Q3"
   ]
  },
  {
   "cell_type": "markdown",
   "metadata": {},
   "source": [
    "$$\n",
    "\\begin{align}\n",
    "    \\mathbf{F} &= \\frac{Q}{4\\pi\\epsilon_0}\\sum_{k=1}^N\\frac{Q_k(\\mathbf{r}-\\mathbf{r}_k)}{|\\mathbf{r}-\\mathbf{r}_k|^3}\n",
    "\\end{align}\n",
    "$$"
   ]
  },
  {
   "cell_type": "code",
   "execution_count": 130,
   "metadata": {},
   "outputs": [
    {
     "data": {
      "text/latex": [
       "$\\displaystyle \\left[\\begin{matrix}141.8\\\\-364.0\\\\9.961\\end{matrix}\\right]$"
      ],
      "text/plain": [
       "Matrix([\n",
       "[ 141.8],\n",
       "[-364.0],\n",
       "[ 9.961]])"
      ]
     },
     "execution_count": 130,
     "metadata": {},
     "output_type": "execute_result"
    }
   ],
   "source": [
    "F1 = (1/(4*sp.pi*e0))*(q1*q2*R1)/R1.norm()**3 # força da carga Q2 em Q1\n",
    "F2 = (1/(4*sp.pi*e0))*(q1*q3*R2)/R2.norm()**3 # força da carga Q3 em Q1\n",
    "F = (F1 + F2) #princípio da superposição\n",
    "F.evalf(4)"
   ]
  },
  {
   "cell_type": "markdown",
   "metadata": {},
   "source": [
    "b ) O campo elétrico (E) em (4,2,2)"
   ]
  },
  {
   "cell_type": "code",
   "execution_count": 144,
   "metadata": {},
   "outputs": [],
   "source": [
    "q1 = 1e-3  # Atribuindo valor a carga Q1\n",
    "q2 = 2e-3  # Atribuindo valor a carga Q2\n",
    "q3 = -3e-3 # Atribuindo valor a carga Q3\n",
    "# definindo os Vetores posição\n",
    "r1 = sp.Matrix([0,0,4])  \n",
    "r2 = sp.Matrix([-2,6,1])\n",
    "r3 = sp.Matrix([3,-4,-8])\n",
    "r  = sp.Matrix([4,2,2]) # ponto de interrese \n",
    "e0 = 1e-9/(36*sp.pi) # atribuindo valor a permissividade do espaço livre \n",
    "\n",
    "R1 = r-r1 \n",
    "R2 = r-r2 \n",
    "R3 = r-r3 "
   ]
  },
  {
   "cell_type": "markdown",
   "metadata": {},
   "source": [
    "$$\n",
    "\\begin{align}\n",
    "    \\mathbf{E} &= \\frac{1}{4\\pi\\epsilon_0}\\sum_{k=1}^N\\frac{Q_k(\\mathbf{r}-\\mathbf{r}_k)}{|\\mathbf{r}-\\mathbf{r}_k|^3}\n",
    "\\end{align}\n",
    "$$"
   ]
  },
  {
   "cell_type": "code",
   "execution_count": 145,
   "metadata": {},
   "outputs": [
    {
     "data": {
      "text/latex": [
       "$\\displaystyle \\left[\\begin{matrix}5.6925 \\cdot 10^{5}\\\\-1.3454 \\cdot 10^{5}\\\\-2.7482 \\cdot 10^{5}\\end{matrix}\\right]$"
      ],
      "text/plain": [
       "Matrix([\n",
       "[ 5.6925e+5],\n",
       "[-1.3454e+5],\n",
       "[-2.7482e+5]])"
      ]
     },
     "execution_count": 145,
     "metadata": {},
     "output_type": "execute_result"
    }
   ],
   "source": [
    "E1 = (1/(4*sp.pi*e0))*(q1*R1)/R1.norm()**3 # Campo Q1\n",
    "E2 = (1/(4*sp.pi*e0))*(q2*R2)/R2.norm()**3 # Campo Q2\n",
    "E3 = (1/(4*sp.pi*e0))*(q3*R3)/R3.norm()**3 # Campo Q3\n",
    "E = (E1 + E2 + E3) #princípio da superposição\n",
    "E.evalf(5)"
   ]
  },
  {
   "cell_type": "markdown",
   "metadata": {},
   "source": []
  },
  {
   "cell_type": "markdown",
   "metadata": {},
   "source": [
    "C) O potencial elétrico em (4,2,2) \n",
    "\n",
    "$$\n",
    "V(\\mathbf{r}) = \\frac{1}{4\\pi \\epsilon_0}\\sum_{k=1}^n \\frac{Q_k}{|\\mathbf{r}-\\mathbf{r}_k|}\n",
    "$$\n"
   ]
  },
  {
   "cell_type": "code",
   "execution_count": 164,
   "metadata": {},
   "outputs": [
    {
     "data": {
      "text/latex": [
       "$\\displaystyle 2.0028 \\cdot 10^{6}$"
      ],
      "text/plain": [
       "2.0028e+6"
      ]
     },
     "execution_count": 164,
     "metadata": {},
     "output_type": "execute_result"
    }
   ],
   "source": [
    "import sympy as sp\n",
    "\n",
    "q1 =  1e-3 # Atribuindo valor a carga Q1\n",
    "q2 =  2e-3 # Atribuindo valor a carga Q2\n",
    "q3 = -3e-3 # Atribuindo valor a carga Q3\n",
    "# definindo os Vetores posição\n",
    "r1 = sp.Matrix([0,0,4])  \n",
    "r2 = sp.Matrix([-2,6,1])\n",
    "r3 = sp.Matrix([3,-4,-8])\n",
    "r  = sp.Matrix([4,2,2])\n",
    "e0 = 1e-9/(36*sp.pi)\n",
    "\n",
    "V1 = q1/(4*sp.pi*e0*(r-r1).norm()) #potencial de Q1 um em r\n",
    "V2 = q2/(4*sp.pi*e0*(r-r2).norm()) #potencial de Q2 um em r\n",
    "V3 = q3/(4*sp.pi*e0*(r-r3).norm()) #potencial de Q3 um em r\n",
    "V= V1 + V2 + V3 #principio da superposição\n",
    "V.evalf(5)"
   ]
  },
  {
   "cell_type": "markdown",
   "metadata": {},
   "source": [
    "d) O trabalho necessário para mover uma carga pontual de 1mC de (4,2,2) a (5,2,2)\n",
    "\n",
    "$$\n",
    "V_{AB} = \\frac{W}{q} \n",
    "$$"
   ]
  },
  {
   "cell_type": "code",
   "execution_count": 170,
   "metadata": {},
   "outputs": [
    {
     "data": {
      "text/latex": [
       "$\\displaystyle 3000.0$"
      ],
      "text/plain": [
       "3000.00000000000"
      ]
     },
     "execution_count": 170,
     "metadata": {},
     "output_type": "execute_result"
    }
   ],
   "source": [
    "\n",
    "q1 =  1e-3 # Atribuindo valor a carga Q1\n",
    "# definindo os Vetores posição\n",
    "r1 = sp.Matrix([5,2,2])  \n",
    "r2 = sp.Matrix([4,4,4])\n",
    "e0 = 1e-9/(36*sp.pi)\n",
    "\n",
    "V = q1/(4*sp.pi*e0*(r1-r2).norm()) #potencial da Q1 um em r1\n",
    "\n",
    "W = q1*V\n",
    "W\n"
   ]
  },
  {
   "cell_type": "markdown",
   "metadata": {},
   "source": [
    "3ª ) Um campo potencial elétrico é dado por $V = 3yx^2 + 2zy^2 - z$ . Determine:\n",
    "\n",
    "A ) O campo elétrico (E) em (1,2,5)"
   ]
  },
  {
   "cell_type": "markdown",
   "metadata": {},
   "source": [
    "\n",
    "$$\n",
    "\\mathbf{E} = -\\nabla{V}\n",
    "$$"
   ]
  },
  {
   "cell_type": "code",
   "execution_count": 133,
   "metadata": {},
   "outputs": [],
   "source": [
    "import sympy as sp\n",
    "x,y,z, ax, ay, az, e0, r= sp.symbols(\"x y z â_x  â_y  â_z epsilon_0 rho_v\")"
   ]
  },
  {
   "cell_type": "code",
   "execution_count": 134,
   "metadata": {},
   "outputs": [
    {
     "data": {
      "text/latex": [
       "$\\displaystyle 3 x^{2} y + 2 y^{2} z - z$"
      ],
      "text/plain": [
       "3*x**2*y + 2*y**2*z - z"
      ]
     },
     "execution_count": 134,
     "metadata": {},
     "output_type": "execute_result"
    }
   ],
   "source": [
    "V=3*y*x**2 + 2*z*y**2 -z #Declarando o campo potencial elétrico\n",
    "V"
   ]
  },
  {
   "cell_type": "code",
   "execution_count": 165,
   "metadata": {},
   "outputs": [
    {
     "data": {
      "text/latex": [
       "$\\displaystyle - 6 x y â_{x} + â_{y} \\left(- 3 x^{2} - 4 y z\\right) + â_{z} \\left(1 - 2 y^{2}\\right)$"
      ],
      "text/plain": [
       "-6*x*y*â_x + â_y*(-3*x**2 - 4*y*z) + â_z*(1 - 2*y**2)"
      ]
     },
     "execution_count": 165,
     "metadata": {},
     "output_type": "execute_result"
    }
   ],
   "source": [
    "V=3*y*x**2 + 2*z*y**2 -z\n",
    "\n",
    "Ex = -1*sp.diff(V , x)*ax\n",
    "Ey = -1*sp.diff(V , y)*ay\n",
    "Ez = -1*sp.diff(V , z)*az\n",
    "E = Ex + Ey + Ez\n",
    "E # Campo elétrico\n"
   ]
  },
  {
   "cell_type": "code",
   "execution_count": 136,
   "metadata": {},
   "outputs": [
    {
     "data": {
      "text/latex": [
       "$\\displaystyle - 6 y â_{x} + â_{y} \\left(- 4 y z - 3\\right) + â_{z} \\left(1 - 2 y^{2}\\right)$"
      ],
      "text/plain": [
       "-6*y*â_x + â_y*(-4*y*z - 3) + â_z*(1 - 2*y**2)"
      ]
     },
     "execution_count": 136,
     "metadata": {},
     "output_type": "execute_result"
    }
   ],
   "source": [
    "\n",
    "E1=E.subs(x,1);E=E.subs(y,4);E=E.subs(z,5) #substituindo nas coodernadas ( 1, 2, 5)\n",
    "E1"
   ]
  },
  {
   "cell_type": "markdown",
   "metadata": {},
   "source": [
    "B ) A densidade de carga que gera esse potencial elétrico\n"
   ]
  },
  {
   "cell_type": "code",
   "execution_count": 137,
   "metadata": {},
   "outputs": [
    {
     "data": {
      "text/latex": [
       "$\\displaystyle - 6 y - 4 z$"
      ],
      "text/plain": [
       "-6*y - 4*z"
      ]
     },
     "execution_count": 137,
     "metadata": {},
     "output_type": "execute_result"
    }
   ],
   "source": [
    "r= (sp.diff(Ex/ax, x) + sp.diff(Ey/ay, y) + sp.diff(Ez/az , z))\n",
    "r = r\n",
    "\n",
    "\n"
   ]
  }
 ],
 "metadata": {
  "kernelspec": {
   "display_name": "Python 3",
   "language": "python",
   "name": "python3"
  },
  "language_info": {
   "codemirror_mode": {
    "name": "ipython",
    "version": 3
   },
   "file_extension": ".py",
   "mimetype": "text/x-python",
   "name": "python",
   "nbconvert_exporter": "python",
   "pygments_lexer": "ipython3",
   "version": "3.10.6"
  }
 },
 "nbformat": 4,
 "nbformat_minor": 2
}
